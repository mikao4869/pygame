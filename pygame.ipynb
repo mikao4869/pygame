{
 "cells": [
  {
   "cell_type": "code",
   "execution_count": 1,
   "metadata": {},
   "outputs": [
    {
     "name": "stdout",
     "output_type": "stream",
     "text": [
      "pygame 2.6.1 (SDL 2.28.4, Python 3.12.4)\n",
      "Hello from the pygame community. https://www.pygame.org/contribute.html\n"
     ]
    }
   ],
   "source": [
    "import pygame"
   ]
  },
  {
   "cell_type": "code",
   "execution_count": 1,
   "metadata": {},
   "outputs": [
    {
     "name": "stdout",
     "output_type": "stream",
     "text": [
      "pygame 2.6.1 (SDL 2.28.4, Python 3.12.4)\n",
      "Hello from the pygame community. https://www.pygame.org/contribute.html\n"
     ]
    },
    {
     "ename": "",
     "evalue": "",
     "output_type": "error",
     "traceback": [
      "\u001b[1;31m현재 셀 또는 이전 셀에서 코드를 실행하는 동안 Kernel이 충돌했습니다. \n",
      "\u001b[1;31m셀의 코드를 검토하여 가능한 오류 원인을 식별하세요. \n",
      "\u001b[1;31m자세한 내용을 보려면 <a href='https://aka.ms/vscodeJupyterKernelCrash'>여기</a>를 클릭하세요. \n",
      "\u001b[1;31m자세한 내용은 Jupyter <a href='command:jupyter.viewOutput'>로그</a>를 참조하세요."
     ]
    }
   ],
   "source": [
    "import pygame\n",
    "import random\n",
    "\n",
    "# 화면 크기 및 색상 설정\n",
    "width = 600\n",
    "height = 400\n",
    "WHITE = (255, 255, 255)\n",
    "BLUE = (0, 0, 255)\n",
    "RED = (255, 0, 0)\n",
    "BLACK = (0, 0, 0)\n",
    "GREEN = (0, 200, 0)  # 기본 버튼 색\n",
    "LIGHT_GREEN = (0, 204, 255)  # 마우스 오버 시 버튼 색\n",
    "\n",
    "pygame.init()\n",
    "screen = pygame.display.set_mode((width, height))\n",
    "pygame.display.set_caption(\"Snake Game\")\n",
    "\n",
    "font = pygame.font.Font(None, 50)  # 기본 폰트 (크기 50)\n",
    "button_font = pygame.font.Font(None, 40)  # 버튼 글씨 폰트\n",
    "\n",
    "clock = pygame.time.Clock()\n",
    "\n",
    "def draw_text(text, font, color, x, y):\n",
    "    \"\"\"텍스트를 화면 중앙 정렬하여 표시하는 함수\"\"\"\n",
    "    text_surface = font.render(text, True, color)\n",
    "    text_rect = text_surface.get_rect(center=(x, y))\n",
    "    screen.blit(text_surface, text_rect)\n",
    "\n",
    "def main_menu():\n",
    "    \"\"\"메인 메뉴 화면\"\"\"\n",
    "    while True:\n",
    "        screen.fill(WHITE)\n",
    "        draw_text(\"Snake Game\", font, BLACK, width // 2, height // 3)\n",
    "\n",
    "        # 버튼 색상 변경 (마우스 오버 효과)\n",
    "        mouse_pos = pygame.mouse.get_pos()\n",
    "        button_rect = pygame.Rect(width // 2 - 75, height // 2, 150, 50)\n",
    "        button_color = LIGHT_GREEN if button_rect.collidepoint(mouse_pos) else GREEN\n",
    "\n",
    "        pygame.draw.rect(screen, button_color, button_rect, border_radius=10)\n",
    "        draw_text(\"Start\", button_font, WHITE, width // 2, height // 2 + 25)\n",
    "\n",
    "        pygame.display.update()\n",
    "\n",
    "        for event in pygame.event.get():\n",
    "            if event.type == pygame.QUIT:\n",
    "                pygame.quit()\n",
    "                exit()\n",
    "            elif event.type == pygame.MOUSEBUTTONDOWN:\n",
    "                if button_rect.collidepoint(event.pos):\n",
    "                    game_loop()  # 게임 시작\n",
    "                    return  # 게임이 끝나면 메인 메뉴로 복귀\n",
    "\n",
    "def game_loop():\n",
    "    \"\"\"뱀 게임 실행\"\"\"\n",
    "    x1, y1 = width // 2, height // 2\n",
    "    x1_change, y1_change = 0, 0\n",
    "    sneak_size = 20\n",
    "    sneak_length = 1\n",
    "    sneak_body = []\n",
    "\n",
    "    food_x = random.randrange(0, width - sneak_size, sneak_size)\n",
    "    food_y = random.randrange(0, height - sneak_size, sneak_size)\n",
    "\n",
    "    running = True\n",
    "    while running:\n",
    "        for event in pygame.event.get():\n",
    "            if event.type == pygame.QUIT:\n",
    "                pygame.quit()\n",
    "                exit()\n",
    "            elif event.type == pygame.KEYDOWN:\n",
    "                if event.key == pygame.K_LEFT and x1_change == 0:\n",
    "                    x1_change = -sneak_size\n",
    "                    y1_change = 0\n",
    "                elif event.key == pygame.K_RIGHT and x1_change == 0:\n",
    "                    x1_change = sneak_size\n",
    "                    y1_change = 0\n",
    "                elif event.key == pygame.K_UP and y1_change == 0:\n",
    "                    x1_change = 0\n",
    "                    y1_change = -sneak_size\n",
    "                elif event.key == pygame.K_DOWN and y1_change == 0:\n",
    "                    x1_change = 0\n",
    "                    y1_change = sneak_size\n",
    "                elif event.key == pygame.K_ESCAPE:  # ESC 키를 누르면 메인 메뉴로 돌아가기\n",
    "                    return\n",
    "\n",
    "        # 뱀 이동\n",
    "        x1 += x1_change\n",
    "        y1 += y1_change\n",
    "\n",
    "        # 게임 종료 조건 (벽 충돌)\n",
    "        if x1 < 0 or x1 >= width or y1 < 0 or y1 >= height:\n",
    "            running = False\n",
    "\n",
    "        # 뱀이 음식을 먹었을 때\n",
    "        if x1 == food_x and y1 == food_y:\n",
    "            food_x = random.randrange(0, width - sneak_size, sneak_size)\n",
    "            food_y = random.randrange(0, height - sneak_size, sneak_size)\n",
    "            sneak_length += 1\n",
    "\n",
    "        # 뱀의 몸 관리\n",
    "        sneak_head = [x1, y1]\n",
    "        sneak_body.append(sneak_head)\n",
    "\n",
    "        if len(sneak_body) > sneak_length:\n",
    "            del sneak_body[0]\n",
    "\n",
    "        # 뱀이 자기 몸과 충돌하면 게임 종료\n",
    "        for body in sneak_body[:-1]:\n",
    "            if body == sneak_head:\n",
    "                running = False\n",
    "\n",
    "        # 화면 그리기\n",
    "        screen.fill(WHITE)\n",
    "        for body in sneak_body:\n",
    "            pygame.draw.rect(screen, BLUE, (body[0], body[1], sneak_size, sneak_size))\n",
    "        pygame.draw.rect(screen, RED, (food_x, food_y, sneak_size, sneak_size))\n",
    "\n",
    "        pygame.display.update()\n",
    "        clock.tick(15)  # 초당 15 프레임\n",
    "\n",
    "    return  # 게임 종료 후 메인 메뉴로 돌아감\n",
    "\n",
    "# 메인 메뉴 실행\n",
    "main_menu()\n"
   ]
  },
  {
   "cell_type": "code",
   "execution_count": 14,
   "metadata": {},
   "outputs": [
    {
     "ename": "SyntaxError",
     "evalue": "invalid syntax (3772833211.py, line 2)",
     "output_type": "error",
     "traceback": [
      "  \u001b[36mCell\u001b[39m\u001b[36m \u001b[39m\u001b[32mIn[14]\u001b[39m\u001b[32m, line 2\u001b[39m\n\u001b[31m    \u001b[39m\u001b[31m1. start 버튼을 누른다\u001b[39m\n       ^\n\u001b[31mSyntaxError\u001b[39m\u001b[31m:\u001b[39m invalid syntax\n"
     ]
    }
   ],
   "source": [
    "# 스네이크 게임 분석\n",
    "1. start 버튼을 누른다\n",
    "2.  안에 있는 사과를 먹어야한다\n",
    "3. 방향키로 조절을 해야한다.\n",
    "4.  벽에 닿으면 안된다\n",
    "5. 자신의 몸에 닿으면 안된다\n",
    "6. 사과를 먹을수록 뱀의 길이가 길어진다.\n",
    "7. 사과를 먹으면 사과의 먹은 카운트가 세어진다\n",
    "8. 죽으면 플레이와 설정과 일일 챌린지가 뜬다\n",
    "8. 최고 점수는 따로 세어진다\n",
    "9. 각각 커스튬이 된다.(속도,뱀,과일,테마)"
   ]
  },
  {
   "cell_type": "code",
   "execution_count": null,
   "metadata": {},
   "outputs": [],
   "source": []
  }
 ],
 "metadata": {
  "kernelspec": {
   "display_name": "Python 3",
   "language": "python",
   "name": "python3"
  },
  "language_info": {
   "codemirror_mode": {
    "name": "ipython",
    "version": 3
   },
   "file_extension": ".py",
   "mimetype": "text/x-python",
   "name": "python",
   "nbconvert_exporter": "python",
   "pygments_lexer": "ipython3",
   "version": "3.12.4"
  }
 },
 "nbformat": 4,
 "nbformat_minor": 2
}
