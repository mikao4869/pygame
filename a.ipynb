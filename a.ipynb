{
 "cells": [
  {
   "cell_type": "code",
   "execution_count": null,
   "metadata": {},
   "outputs": [
    {
     "name": "stdout",
     "output_type": "stream",
     "text": [
      "10\n"
     ]
    }
   ],
   "source": [
    "d=10\n",
    "print(d)"
   ]
  },
  {
   "cell_type": "code",
   "execution_count": null,
   "metadata": {},
   "outputs": [],
   "source": [
    "a=10\n",
    "a=a+5\n",
    "print(a)"
   ]
  },
  {
   "cell_type": "code",
   "execution_count": null,
   "metadata": {},
   "outputs": [
    {
     "name": "stdout",
     "output_type": "stream",
     "text": [
      "고등학생입니다\n"
     ]
    }
   ],
   "source": [
    "age=int(input(\"나이를 입력해주세요\"))\n",
    "if(age<19):\n",
    "    print(\"미생년자입니다\")\n",
    "else:\n",
    "    print(\"성인입니다\")"
   ]
  },
  {
   "cell_type": "code",
   "execution_count": null,
   "metadata": {},
   "outputs": [],
   "source": [
    "input(\"설명문\")"
   ]
  },
  {
   "cell_type": "code",
   "execution_count": null,
   "metadata": {},
   "outputs": [
    {
     "name": "stdout",
     "output_type": "stream",
     "text": [
      "유아입니다\n"
     ]
    }
   ],
   "source": [
    "age=int(input(\"나이를 입력해주세요\"))\n",
    "if(age>=19):\n",
    "    print(\"성인입니다\")\n",
    "elif (age>=17):\n",
    "    print(\"고등학생입니다\")\n",
    "elif(age>=14):\n",
    "    print(\"중학생입니다\")\n",
    "elif (age>=8):\n",
    "    print(\"초등학생입니다\")\n",
    "else:\n",
    "    print(\"유아입니다\")\n"
   ]
  },
  {
   "cell_type": "code",
   "execution_count": null,
   "metadata": {},
   "outputs": [
    {
     "name": "stdout",
     "output_type": "stream",
     "text": [
      "유은서는 바보이다\n"
     ]
    }
   ],
   "source": [
    "print(\"유은서는 바보이다\")"
   ]
  },
  {
   "cell_type": "code",
   "execution_count": null,
   "metadata": {},
   "outputs": [
    {
     "name": "stdout",
     "output_type": "stream",
     "text": [
      "유은서는 소닉이다\n"
     ]
    }
   ],
   "source": [
    "print(\"유은서는 소닉이다\")"
   ]
  },
  {
   "cell_type": "code",
   "execution_count": null,
   "metadata": {},
   "outputs": [
    {
     "name": "stdout",
     "output_type": "stream",
     "text": [
      "0\n",
      "1\n",
      "2\n",
      "3\n",
      "4\n",
      "5\n",
      "6\n",
      "7\n",
      "8\n",
      "9\n",
      "10\n"
     ]
    }
   ],
   "source": [
    "for i in range(11):\n",
    "  print(i)"
   ]
  },
  {
   "cell_type": "code",
   "execution_count": null,
   "metadata": {},
   "outputs": [
    {
     "name": "stdout",
     "output_type": "stream",
     "text": [
      "절수\n",
      "길동\n",
      "담율\n"
     ]
    }
   ],
   "source": [
    "a_list =[\"절수\",\"길동\",\"담율\"]\n",
    "for i in a_list:\n",
    "  print(i)"
   ]
  },
  {
   "cell_type": "code",
   "execution_count": null,
   "metadata": {},
   "outputs": [],
   "source": [
    "while(a<=100):\n",
    "for i in range(1,num+1)\n",
    "if(num%i==0):\n",
    "  print(i+ \"약수입니다\")"
   ]
  },
  {
   "cell_type": "code",
   "execution_count": null,
   "metadata": {},
   "outputs": [],
   "source": [
    "c=[]\n",
    "c.append(10)\n",
    "print(c)\n",
    "c.append(20)\n",
    "print(c)\n",
    "\n",
    "c.append(30)\n",
    "print(c)"
   ]
  },
  {
   "cell_type": "code",
   "execution_count": null,
   "metadata": {},
   "outputs": [
    {
     "name": "stdout",
     "output_type": "stream",
     "text": [
      "0\n",
      "1\n",
      "2\n",
      "3\n",
      "4\n",
      "5\n",
      "6\n",
      "7\n",
      "8\n",
      "9\n",
      "10\n"
     ]
    }
   ],
   "source": [
    "c=[]\n",
    "c.append(10)\n",
    "print(c)\n",
    "c.append(20)\n",
    "print(c)\n",
    "\n",
    "c.append(30)\n",
    "print(c)"
   ]
  },
  {
   "cell_type": "code",
   "execution_count": null,
   "metadata": {},
   "outputs": [],
   "source": [
    "c=[]\n",
    "c.append(10)\n",
    "print(c)\n",
    "c.append(20)\n",
    "print(c)\n",
    "c.append(30)\n",
    "print(c)"
   ]
  },
  {
   "cell_type": "code",
   "execution_count": null,
   "metadata": {},
   "outputs": [],
   "source": []
  },
  {
   "cell_type": "code",
   "execution_count": 2,
   "metadata": {},
   "outputs": [
    {
     "name": "stdout",
     "output_type": "stream",
     "text": [
      "[1, 2, 3, 5, 7, 8, 9]\n"
     ]
    }
   ],
   "source": [
    "d=[3,9,5,7,8,2,1]\n",
    "d.sort()\n",
    "print(d)"
   ]
  },
  {
   "cell_type": "code",
   "execution_count": 8,
   "metadata": {},
   "outputs": [
    {
     "name": "stdout",
     "output_type": "stream",
     "text": [
      "2 는 소수입니다\n",
      "3 는 소수입니다\n",
      "5 는 소수입니다\n",
      "7 는 소수입니다\n",
      "11 는 소수입니다\n",
      "13 는 소수입니다\n",
      "17 는 소수입니다\n",
      "19 는 소수입니다\n",
      "23 는 소수입니다\n",
      "29 는 소수입니다\n",
      "31 는 소수입니다\n",
      "37 는 소수입니다\n",
      "41 는 소수입니다\n",
      "43 는 소수입니다\n",
      "47 는 소수입니다\n",
      "53 는 소수입니다\n",
      "59 는 소수입니다\n",
      "61 는 소수입니다\n",
      "67 는 소수입니다\n",
      "71 는 소수입니다\n",
      "73 는 소수입니다\n",
      "79 는 소수입니다\n",
      "83 는 소수입니다\n",
      "89 는 소수입니다\n",
      "97 는 소수입니다\n"
     ]
    }
   ],
   "source": [
    "number = 7\n",
    "for number in range(1,100):\n",
    "  temp =[]\n",
    "  for i in range(1,number+1):\n",
    "    if number%i==0:\n",
    "      temp.append(i)\n",
    "  \n",
    "  if len(temp)==2:\n",
    "    print(number,\"는 소수입니다\")"
   ]
  },
  {
   "cell_type": "code",
   "execution_count": 4,
   "metadata": {},
   "outputs": [
    {
     "name": "stdout",
     "output_type": "stream",
     "text": [
      "안녕하세요\n"
     ]
    }
   ],
   "source": [
    "def hello():\n",
    "  return \"안녕하세요\"\n",
    "print(hello())"
   ]
  },
  {
   "cell_type": "code",
   "execution_count": 1,
   "metadata": {},
   "outputs": [
    {
     "name": "stdout",
     "output_type": "stream",
     "text": [
      "[10, 30]\n"
     ]
    }
   ],
   "source": [
    "c=[10,20,30]\n",
    "del c[1]\n",
    "print(c)"
   ]
  },
  {
   "cell_type": "code",
   "execution_count": 2,
   "metadata": {},
   "outputs": [
    {
     "name": "stdout",
     "output_type": "stream",
     "text": [
      "7\n"
     ]
    }
   ],
   "source": [
    "def plus(a,b):\n",
    "  return a+b\n",
    "print(plus(3,4))"
   ]
  },
  {
   "cell_type": "code",
   "execution_count": null,
   "metadata": {},
   "outputs": [],
   "source": []
  }
 ],
 "metadata": {
  "kernelspec": {
   "display_name": "Python 3",
   "language": "python",
   "name": "python3"
  },
  "language_info": {
   "codemirror_mode": {
    "name": "ipython",
    "version": 3
   },
   "file_extension": ".py",
   "mimetype": "text/x-python",
   "name": "python",
   "nbconvert_exporter": "python",
   "pygments_lexer": "ipython3",
   "version": "3.12.4"
  }
 },
 "nbformat": 4,
 "nbformat_minor": 2
}
